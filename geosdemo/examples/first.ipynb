{
 "cells": [
  {
   "cell_type": "code",
   "execution_count": 1,
   "metadata": {},
   "outputs": [
    {
     "name": "stdout",
     "output_type": "stream",
     "text": [
      "Your new password is: .<fxzqVRq9DA\\zP6Bq4ww_j!`C8]IhyKVLfGTV*}\\JXA6)Ba;PLX{6-7tc^6]65|1]$PdcoMPCK;K/$WE4wl;nHdIP4zY<\"/+d-p\n"
     ]
    }
   ],
   "source": [
    "import string\n",
    "import random\n",
    "\n",
    "def generate_password(length):\n",
    "    # Define the character sets to use in the password\n",
    "    lowercase = string.ascii_lowercase\n",
    "    uppercase = string.ascii_uppercase\n",
    "    digits = string.digits\n",
    "    special_chars = string.punctuation\n",
    "    \n",
    "    # Combine the character sets\n",
    "    all_chars = lowercase + uppercase + digits + special_chars\n",
    "    \n",
    "    # Generate a password with the specified length\n",
    "    password = ''.join(random.choice(all_chars) for i in range(length))\n",
    "    \n",
    "    return password\n",
    "\n",
    "password_length = int(input(\"Enter the desired length of your password: \"))\n",
    "password = generate_password(password_length)\n",
    "print(\"Your new password is:\", password)"
   ]
  }
 ],
 "metadata": {
  "kernelspec": {
   "display_name": "Python 3.10.10 64-bit (microsoft store)",
   "language": "python",
   "name": "python3"
  },
  "language_info": {
   "codemirror_mode": {
    "name": "ipython",
    "version": 3
   },
   "file_extension": ".py",
   "mimetype": "text/x-python",
   "name": "python",
   "nbconvert_exporter": "python",
   "pygments_lexer": "ipython3",
   "version": "3.10.10"
  },
  "orig_nbformat": 4,
  "vscode": {
   "interpreter": {
    "hash": "6392b47d10f2a60cf5c0984ae0b3f8fe711cc586c5a006a75348f691210e47b5"
   }
  }
 },
 "nbformat": 4,
 "nbformat_minor": 2
}
